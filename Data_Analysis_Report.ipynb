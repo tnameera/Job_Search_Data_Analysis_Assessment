{
 "cells": [
  {
   "cell_type": "markdown",
   "id": "9a774527",
   "metadata": {},
   "source": [
    "# Data Analysis Assessment\n",
    "\n",
    "## Introduction\n",
    "The dataset for this Data Analysis task has details of job posts across different job boards. "
   ]
  },
  {
   "cell_type": "markdown",
   "id": "3fc1bb11",
   "metadata": {},
   "source": [
    "## Data Loading and Package Imports"
   ]
  },
  {
   "cell_type": "code",
   "execution_count": 154,
   "id": "b718e6fa",
   "metadata": {},
   "outputs": [],
   "source": [
    "%matplotlib inline\n",
    "import pandas as pd\n",
    "pd.set_option('display.max_columns', None)\n",
    "import numpy as np\n",
    "import os\n",
    "import matplotlib.pyplot as plt"
   ]
  },
  {
   "cell_type": "code",
   "execution_count": 155,
   "id": "4e5973ce",
   "metadata": {},
   "outputs": [],
   "source": [
    "df = pd.read_csv(\"Dataset - Sheet1.csv\")"
   ]
  },
  {
   "cell_type": "code",
   "execution_count": 200,
   "id": "e370ce3d",
   "metadata": {},
   "outputs": [
    {
     "data": {
      "text/html": [
       "<div>\n",
       "<style scoped>\n",
       "    .dataframe tbody tr th:only-of-type {\n",
       "        vertical-align: middle;\n",
       "    }\n",
       "\n",
       "    .dataframe tbody tr th {\n",
       "        vertical-align: top;\n",
       "    }\n",
       "\n",
       "    .dataframe thead th {\n",
       "        text-align: right;\n",
       "    }\n",
       "</style>\n",
       "<table border=\"1\" class=\"dataframe\">\n",
       "  <thead>\n",
       "    <tr style=\"text-align: right;\">\n",
       "      <th></th>\n",
       "      <th>Position</th>\n",
       "      <th>Company</th>\n",
       "      <th>Location</th>\n",
       "      <th>Industry</th>\n",
       "      <th>Posted On</th>\n",
       "      <th>Extracted On</th>\n",
       "      <th>Job Type</th>\n",
       "      <th>Qualification</th>\n",
       "      <th>Job Description</th>\n",
       "      <th>Job Id</th>\n",
       "      <th>Experience</th>\n",
       "      <th>Start Date</th>\n",
       "      <th>End Date</th>\n",
       "      <th>Source</th>\n",
       "    </tr>\n",
       "  </thead>\n",
       "  <tbody>\n",
       "    <tr>\n",
       "      <th>28</th>\n",
       "      <td>Data Analytics Intern</td>\n",
       "      <td>RHUX Analytics</td>\n",
       "      <td>Tacoma, WA</td>\n",
       "      <td>Information Technology &amp; Servicess</td>\n",
       "      <td>NaN</td>\n",
       "      <td>NaN</td>\n",
       "      <td>NaN</td>\n",
       "      <td>Bachelor's (Preferred)</td>\n",
       "      <td>* Track and analyze key marketing and social m...</td>\n",
       "      <td>NaN</td>\n",
       "      <td>SQL: 1 year (Preferred)\\nBusiness Analysis: 1 ...</td>\n",
       "      <td>NaN</td>\n",
       "      <td>NaN</td>\n",
       "      <td>https://www.internships.com/posting/sam_22fcdb...</td>\n",
       "    </tr>\n",
       "    <tr>\n",
       "      <th>207</th>\n",
       "      <td>Systems Engineering Intern</td>\n",
       "      <td>Sound Transit</td>\n",
       "      <td>Seattle, WA 98104 (International District area)</td>\n",
       "      <td>Transportation/Trucking/Railroad</td>\n",
       "      <td>NaN</td>\n",
       "      <td>NaN</td>\n",
       "      <td>NaN</td>\n",
       "      <td>NaN</td>\n",
       "      <td>The Systems Engineering intern will support th...</td>\n",
       "      <td>NaN</td>\n",
       "      <td>NA-Feb 2020 Data</td>\n",
       "      <td>NaN</td>\n",
       "      <td>NaN</td>\n",
       "      <td>https://www.indeed.com/rc/clk?jk=0bc2d111d82ba...</td>\n",
       "    </tr>\n",
       "  </tbody>\n",
       "</table>\n",
       "</div>"
      ],
      "text/plain": [
       "                       Position         Company  \\\n",
       "28        Data Analytics Intern  RHUX Analytics   \n",
       "207  Systems Engineering Intern   Sound Transit   \n",
       "\n",
       "                                            Location  \\\n",
       "28                                        Tacoma, WA   \n",
       "207  Seattle, WA 98104 (International District area)   \n",
       "\n",
       "                               Industry Posted On Extracted On Job Type  \\\n",
       "28   Information Technology & Servicess       NaN          NaN      NaN   \n",
       "207    Transportation/Trucking/Railroad       NaN          NaN      NaN   \n",
       "\n",
       "              Qualification  \\\n",
       "28   Bachelor's (Preferred)   \n",
       "207                     NaN   \n",
       "\n",
       "                                       Job Description Job Id  \\\n",
       "28   * Track and analyze key marketing and social m...    NaN   \n",
       "207  The Systems Engineering intern will support th...    NaN   \n",
       "\n",
       "                                            Experience Start Date End Date  \\\n",
       "28   SQL: 1 year (Preferred)\\nBusiness Analysis: 1 ...        NaN      NaN   \n",
       "207                                   NA-Feb 2020 Data        NaN      NaN   \n",
       "\n",
       "                                                Source  \n",
       "28   https://www.internships.com/posting/sam_22fcdb...  \n",
       "207  https://www.indeed.com/rc/clk?jk=0bc2d111d82ba...  "
      ]
     },
     "execution_count": 200,
     "metadata": {},
     "output_type": "execute_result"
    }
   ],
   "source": [
    "df.sample(2)"
   ]
  },
  {
   "cell_type": "markdown",
   "id": "872defe9",
   "metadata": {},
   "source": [
    "## Data Analysis Questions\n",
    "\n",
    "### 1. Analyze the data in the \"Position\" column and describe some of the characteristics of this data. Mention the top 3 Positions that are in high demand?\n",
    "\n",
    "The data in the position column gives a brief idea of the title of each job postion. Every position has a different job title. In many cases the column also specifies if the position is part-time, full-time or just a summer internship opportunity. "
   ]
  },
  {
   "cell_type": "markdown",
   "id": "9f7a793c",
   "metadata": {},
   "source": [
    "To identify the top 3 position of the column we want to count the number of times each postion has shows up in the position column and then look at the positions with the top 3 frequencies. It turns out the higest demand postions are Senior Software Engineer, Software Engineer Intern and Data Science Intern showing up 23, 9 and 9 times respectively. "
   ]
  },
  {
   "cell_type": "code",
   "execution_count": 156,
   "id": "f1303530",
   "metadata": {},
   "outputs": [],
   "source": [
    "grouped_by_postion = df.groupby(by = \"Position\").size().to_frame('count').reset_index()"
   ]
  },
  {
   "cell_type": "code",
   "execution_count": 157,
   "id": "4fa0da7f",
   "metadata": {},
   "outputs": [
    {
     "data": {
      "text/html": [
       "<div>\n",
       "<style scoped>\n",
       "    .dataframe tbody tr th:only-of-type {\n",
       "        vertical-align: middle;\n",
       "    }\n",
       "\n",
       "    .dataframe tbody tr th {\n",
       "        vertical-align: top;\n",
       "    }\n",
       "\n",
       "    .dataframe thead th {\n",
       "        text-align: right;\n",
       "    }\n",
       "</style>\n",
       "<table border=\"1\" class=\"dataframe\">\n",
       "  <thead>\n",
       "    <tr style=\"text-align: right;\">\n",
       "      <th></th>\n",
       "      <th>Position</th>\n",
       "      <th>count</th>\n",
       "    </tr>\n",
       "  </thead>\n",
       "  <tbody>\n",
       "    <tr>\n",
       "      <th>316</th>\n",
       "      <td>Senior Software Engineer</td>\n",
       "      <td>23</td>\n",
       "    </tr>\n",
       "    <tr>\n",
       "      <th>374</th>\n",
       "      <td>Software Engineer Intern</td>\n",
       "      <td>9</td>\n",
       "    </tr>\n",
       "    <tr>\n",
       "      <th>70</th>\n",
       "      <td>Data Science Intern</td>\n",
       "      <td>9</td>\n",
       "    </tr>\n",
       "  </tbody>\n",
       "</table>\n",
       "</div>"
      ],
      "text/plain": [
       "                     Position  count\n",
       "316  Senior Software Engineer     23\n",
       "374  Software Engineer Intern      9\n",
       "70        Data Science Intern      9"
      ]
     },
     "execution_count": 157,
     "metadata": {},
     "output_type": "execute_result"
    }
   ],
   "source": [
    "grouped_by_postion.sort_values(by='count', ascending=False).head(3)"
   ]
  },
  {
   "cell_type": "code",
   "execution_count": 188,
   "id": "f8aa0c92",
   "metadata": {},
   "outputs": [
    {
     "data": {
      "image/png": "[encoded data removed]",
      "text/plain": [
       "<Figure size 432x288 with 1 Axes>"
      ]
     },
     "metadata": {},
     "output_type": "display_data"
    }
   ],
   "source": [
    "dx = grouped_by_postion.sort_values(by='count', ascending=False).head(3).plot.bar(x ='Position', y = 'count',legend=False, rot=90)\n",
    "fig = dx.get_figure()\n",
    "fig.patch.set_facecolor('lightgrey')\n",
    "fig.savefig('position.png',bbox_inches='tight',dpi = 300)"
   ]
  },
  {
   "cell_type": "markdown",
   "id": "cd3186f7",
   "metadata": {},
   "source": [
    "### 2. How many different companies have a job listing in the given dataset? What is the average count of jobs listed per company?\n",
    "\n",
    "The data in the company column gives a list of names of companies who have job openings. In many cases the same company has mulitple job listings. To identify the number of different companies with a job listing we had to count the number of unique company names that shows up in the company column. There was a total 293 companies who posted jobs. "
   ]
  },
  {
   "cell_type": "code",
   "execution_count": 159,
   "id": "22db9697",
   "metadata": {},
   "outputs": [
    {
     "data": {
      "text/plain": [
       "293"
      ]
     },
     "execution_count": 159,
     "metadata": {},
     "output_type": "execute_result"
    }
   ],
   "source": [
    "df['Company'].nunique()"
   ]
  },
  {
   "cell_type": "code",
   "execution_count": 160,
   "id": "6b7375ea",
   "metadata": {},
   "outputs": [],
   "source": [
    "df_company = df.groupby(by = \"Company\").size().to_frame('count').reset_index()"
   ]
  },
  {
   "cell_type": "markdown",
   "id": "65aa0812",
   "metadata": {},
   "source": [
    "We found the number of jobs for each company. Here is a plot of the top 10 companies by the number of jobs they posted.  "
   ]
  },
  {
   "cell_type": "code",
   "execution_count": 187,
   "id": "8b2dec74",
   "metadata": {},
   "outputs": [
    {
     "data": {
      "image/png": "[encoded data removed]",
      "text/plain": [
       "<Figure size 432x288 with 1 Axes>"
      ]
     },
     "metadata": {},
     "output_type": "display_data"
    }
   ],
   "source": [
    "ax = df_company.sort_values(by='count', ascending=False).head(10).plot.bar(x ='Company', y = 'count', rot=90, legend=False)\n",
    "fig = ax.get_figure()\n",
    "fig.patch.set_facecolor('lightgrey')\n",
    "fig.savefig('company_figure.png',bbox_inches='tight',dpi = 300)"
   ]
  },
  {
   "cell_type": "markdown",
   "id": "30cbb6bc",
   "metadata": {},
   "source": [
    "Then we took the mean, which is 2.068 jobs posted per company."
   ]
  },
  {
   "cell_type": "code",
   "execution_count": 126,
   "id": "e9a0350a",
   "metadata": {},
   "outputs": [
    {
     "data": {
      "text/plain": [
       "2.068259385665529"
      ]
     },
     "execution_count": 126,
     "metadata": {},
     "output_type": "execute_result"
    }
   ],
   "source": [
    "df_company[\"count\"].mean()"
   ]
  },
  {
   "cell_type": "markdown",
   "id": "b9cf9bcb",
   "metadata": {},
   "source": [
    "### 3. Which industry is associated with the most job listings? Which has the least?\n",
    "\n",
    "The data in the industry column gives a list of names of various industries who have job opening. To identify the industry with the maximum and minimum job listings we have to count the number of times each industry name was mentioned in the industry column.\n",
    "\n",
    "To identify the industries with the maximum number of job listing we want to count the number of times each industry shows up in the industry column and then look at highest frequencies. It turns out the industries with the maximum number of job listings  are Computer Software, Information Technology & Servicess and Software & Tech Services having 129, 62 and 58 job postings respectively."
   ]
  },
  {
   "cell_type": "code",
   "execution_count": 31,
   "id": "e1e7115d",
   "metadata": {},
   "outputs": [],
   "source": [
    "df_industry = df.groupby(by = \"Industry\").size().to_frame('count').reset_index()"
   ]
  },
  {
   "cell_type": "code",
   "execution_count": 32,
   "id": "28a906a4",
   "metadata": {},
   "outputs": [
    {
     "data": {
      "text/html": [
       "<div>\n",
       "<style scoped>\n",
       "    .dataframe tbody tr th:only-of-type {\n",
       "        vertical-align: middle;\n",
       "    }\n",
       "\n",
       "    .dataframe tbody tr th {\n",
       "        vertical-align: top;\n",
       "    }\n",
       "\n",
       "    .dataframe thead th {\n",
       "        text-align: right;\n",
       "    }\n",
       "</style>\n",
       "<table border=\"1\" class=\"dataframe\">\n",
       "  <thead>\n",
       "    <tr style=\"text-align: right;\">\n",
       "      <th></th>\n",
       "      <th>Industry</th>\n",
       "      <th>count</th>\n",
       "    </tr>\n",
       "  </thead>\n",
       "  <tbody>\n",
       "    <tr>\n",
       "      <th>14</th>\n",
       "      <td>Computer Software</td>\n",
       "      <td>129</td>\n",
       "    </tr>\n",
       "    <tr>\n",
       "      <th>40</th>\n",
       "      <td>Information Technology &amp; Servicess</td>\n",
       "      <td>62</td>\n",
       "    </tr>\n",
       "    <tr>\n",
       "      <th>64</th>\n",
       "      <td>Software &amp; Tech Services</td>\n",
       "      <td>58</td>\n",
       "    </tr>\n",
       "  </tbody>\n",
       "</table>\n",
       "</div>"
      ],
      "text/plain": [
       "                              Industry  count\n",
       "14                   Computer Software    129\n",
       "40  Information Technology & Servicess     62\n",
       "64            Software & Tech Services     58"
      ]
     },
     "execution_count": 32,
     "metadata": {},
     "output_type": "execute_result"
    }
   ],
   "source": [
    "df_industry.sort_values(by='count', ascending=False).head(3)"
   ]
  },
  {
   "cell_type": "code",
   "execution_count": 190,
   "id": "d2c8596f",
   "metadata": {},
   "outputs": [
    {
     "data": {
      "image/png": "[encoded data removed]",
      "text/plain": [
       "<Figure size 432x288 with 1 Axes>"
      ]
     },
     "metadata": {},
     "output_type": "display_data"
    }
   ],
   "source": [
    "ex = df_industry.sort_values(by='count', ascending=False).head(10).plot.bar(x ='Industry', y = 'count', rot=90, legend=False)\n",
    "fig = ex.get_figure()\n",
    "fig.patch.set_facecolor('lightgrey')\n",
    "fig.savefig('Industry.png',bbox_inches='tight',dpi = 300)"
   ]
  },
  {
   "cell_type": "markdown",
   "id": "e65148b1",
   "metadata": {},
   "source": [
    "### Which industry is associated with the least job listings\n",
    "\n",
    "To identify the industries with the minimum job listing we want to count the number of times each industry shows up in the industry column and then look at lowest frequencies. It turns out the minimum job listing industries are Pulp and Paper Industry, Healthcare software company, Social Services, Hotel and Software life Science, each just having one job posting."
   ]
  },
  {
   "cell_type": "code",
   "execution_count": 127,
   "id": "fae11ba5",
   "metadata": {
    "scrolled": true
   },
   "outputs": [
    {
     "data": {
      "text/html": [
       "<div>\n",
       "<style scoped>\n",
       "    .dataframe tbody tr th:only-of-type {\n",
       "        vertical-align: middle;\n",
       "    }\n",
       "\n",
       "    .dataframe tbody tr th {\n",
       "        vertical-align: top;\n",
       "    }\n",
       "\n",
       "    .dataframe thead th {\n",
       "        text-align: right;\n",
       "    }\n",
       "</style>\n",
       "<table border=\"1\" class=\"dataframe\">\n",
       "  <thead>\n",
       "    <tr style=\"text-align: right;\">\n",
       "      <th></th>\n",
       "      <th>Industry</th>\n",
       "      <th>count</th>\n",
       "    </tr>\n",
       "  </thead>\n",
       "  <tbody>\n",
       "    <tr>\n",
       "      <th>56</th>\n",
       "      <td>Pulp and Paper Industry</td>\n",
       "      <td>1</td>\n",
       "    </tr>\n",
       "    <tr>\n",
       "      <th>34</th>\n",
       "      <td>Healthcare software company</td>\n",
       "      <td>1</td>\n",
       "    </tr>\n",
       "    <tr>\n",
       "      <th>63</th>\n",
       "      <td>Social Services</td>\n",
       "      <td>1</td>\n",
       "    </tr>\n",
       "    <tr>\n",
       "      <th>37</th>\n",
       "      <td>Hotel</td>\n",
       "      <td>1</td>\n",
       "    </tr>\n",
       "    <tr>\n",
       "      <th>65</th>\n",
       "      <td>Software life Science</td>\n",
       "      <td>1</td>\n",
       "    </tr>\n",
       "  </tbody>\n",
       "</table>\n",
       "</div>"
      ],
      "text/plain": [
       "                       Industry  count\n",
       "56      Pulp and Paper Industry      1\n",
       "34  Healthcare software company      1\n",
       "63              Social Services      1\n",
       "37                        Hotel      1\n",
       "65        Software life Science      1"
      ]
     },
     "execution_count": 127,
     "metadata": {},
     "output_type": "execute_result"
    }
   ],
   "source": [
    "df_industry.sort_values(by='count', ascending=True).head(5)"
   ]
  },
  {
   "cell_type": "markdown",
   "id": "4fd730eb",
   "metadata": {},
   "source": [
    "### 4. Which location is associated with the most job listings? What is the average number of listings per location?\n",
    "\n",
    "The data in the location column identifies the location for each job posting. To identify the location with the maximum job posting we have to count the number of times each location shows up in the location column.\n",
    "\n",
    "It turns out the location with maximum job listing are Seattle WC, Seattle, WA, Social Services, Redmond, WA 98052 (Overlake area),Bellevue, WA and Redmond, WA with 193,162,40,30 and 29 job listing respectively. It is clear that Redmond has two entries here, which should not be the case, but we will revisit this issue later on.\n",
    "\n"
   ]
  },
  {
   "cell_type": "code",
   "execution_count": 35,
   "id": "7c45d0f8",
   "metadata": {},
   "outputs": [],
   "source": [
    "df_location = df.groupby(by = \"Location\").size().to_frame('count').reset_index()"
   ]
  },
  {
   "cell_type": "code",
   "execution_count": 36,
   "id": "afd8aa82",
   "metadata": {},
   "outputs": [
    {
     "data": {
      "text/html": [
       "<div>\n",
       "<style scoped>\n",
       "    .dataframe tbody tr th:only-of-type {\n",
       "        vertical-align: middle;\n",
       "    }\n",
       "\n",
       "    .dataframe tbody tr th {\n",
       "        vertical-align: top;\n",
       "    }\n",
       "\n",
       "    .dataframe thead th {\n",
       "        text-align: right;\n",
       "    }\n",
       "</style>\n",
       "<table border=\"1\" class=\"dataframe\">\n",
       "  <thead>\n",
       "    <tr style=\"text-align: right;\">\n",
       "      <th></th>\n",
       "      <th>Location</th>\n",
       "      <th>count</th>\n",
       "    </tr>\n",
       "  </thead>\n",
       "  <tbody>\n",
       "    <tr>\n",
       "      <th>48</th>\n",
       "      <td>Seattle WC</td>\n",
       "      <td>193</td>\n",
       "    </tr>\n",
       "    <tr>\n",
       "      <th>49</th>\n",
       "      <td>Seattle, WA</td>\n",
       "      <td>162</td>\n",
       "    </tr>\n",
       "    <tr>\n",
       "      <th>37</th>\n",
       "      <td>Redmond, WA 98052 (Overlake area)</td>\n",
       "      <td>40</td>\n",
       "    </tr>\n",
       "    <tr>\n",
       "      <th>6</th>\n",
       "      <td>Bellevue, WA</td>\n",
       "      <td>30</td>\n",
       "    </tr>\n",
       "    <tr>\n",
       "      <th>36</th>\n",
       "      <td>Redmond, WA</td>\n",
       "      <td>29</td>\n",
       "    </tr>\n",
       "  </tbody>\n",
       "</table>\n",
       "</div>"
      ],
      "text/plain": [
       "                             Location  count\n",
       "48                         Seattle WC    193\n",
       "49                        Seattle, WA    162\n",
       "37  Redmond, WA 98052 (Overlake area)     40\n",
       "6                        Bellevue, WA     30\n",
       "36                        Redmond, WA     29"
      ]
     },
     "execution_count": 36,
     "metadata": {},
     "output_type": "execute_result"
    }
   ],
   "source": [
    "df_location.sort_values('count', ascending=False).head(5)"
   ]
  },
  {
   "cell_type": "code",
   "execution_count": 196,
   "id": "1dc67cba",
   "metadata": {},
   "outputs": [
    {
     "data": {
      "image/png": "[encoded data removed]",
      "text/plain": [
       "<Figure size 432x288 with 1 Axes>"
      ]
     },
     "metadata": {},
     "output_type": "display_data"
    }
   ],
   "source": [
    "fx = df_location.sort_values(by='count', ascending=False).head(5).plot.bar(x ='Location', y = 'count', rot=90, legend=False)\n",
    "fig = fx.get_figure()\n",
    "fig.patch.set_facecolor('lightgrey')\n",
    "fig.savefig('location.png',bbox_inches='tight',dpi = 300)"
   ]
  },
  {
   "cell_type": "markdown",
   "id": "7f30507e",
   "metadata": {},
   "source": [
    "## What is the average number of listings per location?"
   ]
  },
  {
   "cell_type": "markdown",
   "id": "05c4b615",
   "metadata": {},
   "source": [
    "To identify the average number of listing we need to count the number of job posting in each of those location and then take an average of them. The average is 9.571429. This means on that on average each location has 9.57 jobs listed. "
   ]
  },
  {
   "cell_type": "code",
   "execution_count": 38,
   "id": "53140544",
   "metadata": {},
   "outputs": [
    {
     "data": {
      "text/plain": [
       "count    9.571429\n",
       "dtype: float64"
      ]
     },
     "execution_count": 38,
     "metadata": {},
     "output_type": "execute_result"
    }
   ],
   "source": [
    "df_location.sort_values('count').mean()"
   ]
  },
  {
   "cell_type": "markdown",
   "id": "72eac810",
   "metadata": {},
   "source": [
    "### 5. If you had to identify all the jobs that require data skills, how would you identify them? How many jobs require data skills?\n",
    "\n",
    "To identify which jobs require data skill I would check both \"Experience\" and \"Job Description\" column to see if the word \"data\" is mentioned. If the word \"data\" is mentioned in either of those columns, I think it is safe to assume that the job requires data skills.\n",
    "\n",
    "Next we identify only the rows that have data in either the \"Experience\" or the \"Job Description\" column, in other words, when the column I defined as \"Sum\" has a value greater than or equal to 1 and add them up. Here we found 585 jobs out of 606 job postings (or 96.5% of jobs) need data skills. "
   ]
  },
  {
   "cell_type": "code",
   "execution_count": 49,
   "id": "57f770b8",
   "metadata": {},
   "outputs": [],
   "source": [
    "df['Experience_contains_data'] = df['Experience'].str.contains(\"data\", case=False)*1"
   ]
  },
  {
   "cell_type": "code",
   "execution_count": 50,
   "id": "a8295afd",
   "metadata": {},
   "outputs": [],
   "source": [
    "df['JD_contains_data'] = df['Job Description'].str.contains(\"data\", case=False)*1"
   ]
  },
  {
   "cell_type": "code",
   "execution_count": 51,
   "id": "0b73afe9",
   "metadata": {},
   "outputs": [],
   "source": [
    "df['Sum'] = df['Experience_contains_data'] + df['JD_contains_data'] "
   ]
  },
  {
   "cell_type": "code",
   "execution_count": 65,
   "id": "246ab54d",
   "metadata": {},
   "outputs": [],
   "source": [
    "jobs_that_require_data_skills = df.loc[(df[\"Sum\"]>=1)]"
   ]
  },
  {
   "cell_type": "code",
   "execution_count": 73,
   "id": "11a852c0",
   "metadata": {},
   "outputs": [
    {
     "data": {
      "text/plain": [
       "585"
      ]
     },
     "execution_count": 73,
     "metadata": {},
     "output_type": "execute_result"
    }
   ],
   "source": [
    "len(jobs_that_require_data_skills)"
   ]
  },
  {
   "cell_type": "code",
   "execution_count": 117,
   "id": "6b0930fb",
   "metadata": {},
   "outputs": [
    {
     "data": {
      "text/plain": [
       "0.9653465346534653"
      ]
     },
     "execution_count": 117,
     "metadata": {},
     "output_type": "execute_result"
    }
   ],
   "source": [
    "len(jobs_that_require_data_skills)/len(df)"
   ]
  },
  {
   "cell_type": "markdown",
   "id": "d7be74e4",
   "metadata": {},
   "source": [
    "### 6. Based on the \"Qualification\" column, identify job listings that require applicants who are either pursuing or have completed a Bachelor's Degree. What is the count of such jobs?\n",
    "\n",
    "To identify the job listing that requires bachelor's degree from the qualification column we need to check multiple factors. We check if the qualification column for each has any of the following words \n",
    "\n",
    "* bachelor \n",
    "* master (to be in a masters program, you mist have completed a bachelor's)\n",
    "* phd (to be in a phd program, you mist have completed a bachelor's)\n",
    "* b.s \n",
    "* b.a\n",
    "* undergrad\n",
    "\n",
    "We found approximately 159 jobs requires a minimum of bachelor's degree out of the total 606 jobs posted, or 26% of jobs require applicants who are either pursuing or have completed a Bachelor's Degree. "
   ]
  },
  {
   "cell_type": "code",
   "execution_count": 111,
   "id": "3e988e7e",
   "metadata": {
    "scrolled": true
   },
   "outputs": [
    {
     "name": "stdout",
     "output_type": "stream",
     "text": [
      "bachelor\n",
      "master\n",
      "analytics\n",
      "phd\n",
      "ph.d\n",
      "b.a\n",
      "b.s\n",
      "undergrad\n"
     ]
    }
   ],
   "source": [
    "list_of_words = [\"bachelor\",\"master\",\"analytics\",\"phd\",\"ph.d\",\"b.a\",\"b.s\", \"undergrad\"]\n",
    "for word in list_of_words:\n",
    "    print(word)\n",
    "    df['Ql_contains_'+word] = (df['Qualification'].str.lower(\n",
    "    ).str.replace(\"'\",\"\").str.contains(word, case=False))"
   ]
  },
  {
   "cell_type": "code",
   "execution_count": 75,
   "id": "fe12c898",
   "metadata": {},
   "outputs": [
    {
     "data": {
      "text/plain": [
       "0      Enrolled in Master’s or Ph.D. degree in math, ...\n",
       "1      maintaining a GPA of 3.0 or higher\\nstudents c...\n",
       "2      College Junior-standing with target graduation...\n",
       "3      Currently has, or is in the process of obtaini...\n",
       "4      B.Sc. in molecular and computer science, cellu...\n",
       "                             ...                        \n",
       "601               Required graduation year : 2021 - 2025\n",
       "602                                                  NaN\n",
       "603    1st year onwards (Undergraduate). 2. Min 3.0 C...\n",
       "604    Actively pursuing a degree in Statistics, Anal...\n",
       "605    2+ years of experience or equivalent education...\n",
       "Name: Qualification, Length: 606, dtype: object"
      ]
     },
     "execution_count": 75,
     "metadata": {},
     "output_type": "execute_result"
    }
   ],
   "source": [
    "df['Qualification'].str.contains(\"Bachelor's Degree\")"
   ]
  },
  {
   "cell_type": "code",
   "execution_count": 113,
   "id": "524bfebc",
   "metadata": {},
   "outputs": [],
   "source": [
    "df['Ql_sum'] = df[[x for x in df.columns if 'Ql_' in x]].sum(axis=1)"
   ]
  },
  {
   "cell_type": "code",
   "execution_count": 114,
   "id": "cfcde0d9",
   "metadata": {},
   "outputs": [],
   "source": [
    "jobs_that_require_bachelor_degree = df.loc[(df['Ql_sum']>=1)]"
   ]
  },
  {
   "cell_type": "code",
   "execution_count": 115,
   "id": "9adb1fd8",
   "metadata": {},
   "outputs": [
    {
     "data": {
      "text/plain": [
       "159"
      ]
     },
     "execution_count": 115,
     "metadata": {},
     "output_type": "execute_result"
    }
   ],
   "source": [
    "len(jobs_that_require_bachelor_degree)"
   ]
  },
  {
   "cell_type": "code",
   "execution_count": 116,
   "id": "443f1513",
   "metadata": {},
   "outputs": [
    {
     "data": {
      "text/plain": [
       "0.2623762376237624"
      ]
     },
     "execution_count": 116,
     "metadata": {},
     "output_type": "execute_result"
    }
   ],
   "source": [
    "len(jobs_that_require_bachelor_degree)/len(df)"
   ]
  },
  {
   "cell_type": "markdown",
   "id": "18001698",
   "metadata": {},
   "source": [
    "# 7. Perform an Exploratory Data Analysis and present the summary of your analysis.\n",
    "## Identify further questions related to the provided dataset that a database manager or a data analyst should explore"
   ]
  },
  {
   "cell_type": "markdown",
   "id": "2c0983fa",
   "metadata": {},
   "source": [
    "* A database manager or a data analyst shoud explore data quality issues. Some of the one I found are:\n",
    "    * Position quality issues: Same position has many names. For example, should Data Analytics and Data analysts be considered separate positions or one and the same?\n",
    "        * Possible solution: Perhaps we can replace the word Analytics with the word Analyst in the Postion column.\n",
    "    * industry quality issues: Are Computer Software, Information Technology & Services and Software & Tech Services really different indistries?\n",
    "        * Possible solution: Perhaps we can replace find industries that are related and put them in one group.\n",
    "    * Location quality issues: Same location has multiple names: Are Redmond, WA 98052 (Overlake area) and Redmond, WA the same location? Should Seattle, WA 98101 (Downtown area) and Seattle, WA be considered the same?\n",
    "        * We can remove extra information like zip code and neighborhoods and keep only City and State."
   ]
  },
  {
   "cell_type": "code",
   "execution_count": 130,
   "id": "a9915bd2",
   "metadata": {},
   "outputs": [
    {
     "data": {
      "text/html": [
       "<div>\n",
       "<style scoped>\n",
       "    .dataframe tbody tr th:only-of-type {\n",
       "        vertical-align: middle;\n",
       "    }\n",
       "\n",
       "    .dataframe tbody tr th {\n",
       "        vertical-align: top;\n",
       "    }\n",
       "\n",
       "    .dataframe thead th {\n",
       "        text-align: right;\n",
       "    }\n",
       "</style>\n",
       "<table border=\"1\" class=\"dataframe\">\n",
       "  <thead>\n",
       "    <tr style=\"text-align: right;\">\n",
       "      <th></th>\n",
       "      <th>Position</th>\n",
       "      <th>count</th>\n",
       "    </tr>\n",
       "  </thead>\n",
       "  <tbody>\n",
       "    <tr>\n",
       "      <th>316</th>\n",
       "      <td>Senior Software Engineer</td>\n",
       "      <td>23</td>\n",
       "    </tr>\n",
       "    <tr>\n",
       "      <th>374</th>\n",
       "      <td>Software Engineer Intern</td>\n",
       "      <td>9</td>\n",
       "    </tr>\n",
       "    <tr>\n",
       "      <th>70</th>\n",
       "      <td>Data Science Intern</td>\n",
       "      <td>9</td>\n",
       "    </tr>\n",
       "    <tr>\n",
       "      <th>57</th>\n",
       "      <td>Data Analyst Intern</td>\n",
       "      <td>8</td>\n",
       "    </tr>\n",
       "    <tr>\n",
       "      <th>447</th>\n",
       "      <td>Web Developer</td>\n",
       "      <td>8</td>\n",
       "    </tr>\n",
       "    <tr>\n",
       "      <th>125</th>\n",
       "      <td>Intern</td>\n",
       "      <td>6</td>\n",
       "    </tr>\n",
       "    <tr>\n",
       "      <th>60</th>\n",
       "      <td>Data Analytics Intern</td>\n",
       "      <td>5</td>\n",
       "    </tr>\n",
       "    <tr>\n",
       "      <th>54</th>\n",
       "      <td>Dashboard &amp; Analytics Internship</td>\n",
       "      <td>4</td>\n",
       "    </tr>\n",
       "    <tr>\n",
       "      <th>351</th>\n",
       "      <td>Senior Web Developer</td>\n",
       "      <td>4</td>\n",
       "    </tr>\n",
       "    <tr>\n",
       "      <th>380</th>\n",
       "      <td>Software Engineering Intern</td>\n",
       "      <td>4</td>\n",
       "    </tr>\n",
       "  </tbody>\n",
       "</table>\n",
       "</div>"
      ],
      "text/plain": [
       "                             Position  count\n",
       "316          Senior Software Engineer     23\n",
       "374          Software Engineer Intern      9\n",
       "70                Data Science Intern      9\n",
       "57                Data Analyst Intern      8\n",
       "447                     Web Developer      8\n",
       "125                            Intern      6\n",
       "60              Data Analytics Intern      5\n",
       "54   Dashboard & Analytics Internship      4\n",
       "351              Senior Web Developer      4\n",
       "380       Software Engineering Intern      4"
      ]
     },
     "execution_count": 130,
     "metadata": {},
     "output_type": "execute_result"
    }
   ],
   "source": [
    "grouped_by_postion.sort_values(by='count', ascending=False).head(10)"
   ]
  },
  {
   "cell_type": "code",
   "execution_count": 131,
   "id": "199129e3",
   "metadata": {},
   "outputs": [
    {
     "data": {
      "text/html": [
       "<div>\n",
       "<style scoped>\n",
       "    .dataframe tbody tr th:only-of-type {\n",
       "        vertical-align: middle;\n",
       "    }\n",
       "\n",
       "    .dataframe tbody tr th {\n",
       "        vertical-align: top;\n",
       "    }\n",
       "\n",
       "    .dataframe thead th {\n",
       "        text-align: right;\n",
       "    }\n",
       "</style>\n",
       "<table border=\"1\" class=\"dataframe\">\n",
       "  <thead>\n",
       "    <tr style=\"text-align: right;\">\n",
       "      <th></th>\n",
       "      <th>Industry</th>\n",
       "      <th>count</th>\n",
       "    </tr>\n",
       "  </thead>\n",
       "  <tbody>\n",
       "    <tr>\n",
       "      <th>14</th>\n",
       "      <td>Computer Software</td>\n",
       "      <td>129</td>\n",
       "    </tr>\n",
       "    <tr>\n",
       "      <th>40</th>\n",
       "      <td>Information Technology &amp; Servicess</td>\n",
       "      <td>62</td>\n",
       "    </tr>\n",
       "    <tr>\n",
       "      <th>64</th>\n",
       "      <td>Software &amp; Tech Services</td>\n",
       "      <td>58</td>\n",
       "    </tr>\n",
       "    <tr>\n",
       "      <th>60</th>\n",
       "      <td>Retail/Ecommerce</td>\n",
       "      <td>29</td>\n",
       "    </tr>\n",
       "    <tr>\n",
       "      <th>42</th>\n",
       "      <td>Internet</td>\n",
       "      <td>25</td>\n",
       "    </tr>\n",
       "    <tr>\n",
       "      <th>58</th>\n",
       "      <td>Recruiting and Staffing</td>\n",
       "      <td>24</td>\n",
       "    </tr>\n",
       "    <tr>\n",
       "      <th>27</th>\n",
       "      <td>Financial Services</td>\n",
       "      <td>19</td>\n",
       "    </tr>\n",
       "    <tr>\n",
       "      <th>31</th>\n",
       "      <td>Government Agency</td>\n",
       "      <td>15</td>\n",
       "    </tr>\n",
       "    <tr>\n",
       "      <th>33</th>\n",
       "      <td>Healthcare Domain</td>\n",
       "      <td>15</td>\n",
       "    </tr>\n",
       "    <tr>\n",
       "      <th>47</th>\n",
       "      <td>Manufacturing</td>\n",
       "      <td>15</td>\n",
       "    </tr>\n",
       "  </tbody>\n",
       "</table>\n",
       "</div>"
      ],
      "text/plain": [
       "                              Industry  count\n",
       "14                   Computer Software    129\n",
       "40  Information Technology & Servicess     62\n",
       "64            Software & Tech Services     58\n",
       "60                    Retail/Ecommerce     29\n",
       "42                            Internet     25\n",
       "58             Recruiting and Staffing     24\n",
       "27                  Financial Services     19\n",
       "31                   Government Agency     15\n",
       "33                  Healthcare Domain      15\n",
       "47                       Manufacturing     15"
      ]
     },
     "execution_count": 131,
     "metadata": {},
     "output_type": "execute_result"
    }
   ],
   "source": [
    "df_industry.sort_values(by='count', ascending=False).head(10)"
   ]
  },
  {
   "cell_type": "code",
   "execution_count": 132,
   "id": "22df5bd4",
   "metadata": {},
   "outputs": [
    {
     "data": {
      "text/html": [
       "<div>\n",
       "<style scoped>\n",
       "    .dataframe tbody tr th:only-of-type {\n",
       "        vertical-align: middle;\n",
       "    }\n",
       "\n",
       "    .dataframe tbody tr th {\n",
       "        vertical-align: top;\n",
       "    }\n",
       "\n",
       "    .dataframe thead th {\n",
       "        text-align: right;\n",
       "    }\n",
       "</style>\n",
       "<table border=\"1\" class=\"dataframe\">\n",
       "  <thead>\n",
       "    <tr style=\"text-align: right;\">\n",
       "      <th></th>\n",
       "      <th>Location</th>\n",
       "      <th>count</th>\n",
       "    </tr>\n",
       "  </thead>\n",
       "  <tbody>\n",
       "    <tr>\n",
       "      <th>48</th>\n",
       "      <td>Seattle WC</td>\n",
       "      <td>193</td>\n",
       "    </tr>\n",
       "    <tr>\n",
       "      <th>49</th>\n",
       "      <td>Seattle, WA</td>\n",
       "      <td>162</td>\n",
       "    </tr>\n",
       "    <tr>\n",
       "      <th>37</th>\n",
       "      <td>Redmond, WA 98052 (Overlake area)</td>\n",
       "      <td>40</td>\n",
       "    </tr>\n",
       "    <tr>\n",
       "      <th>6</th>\n",
       "      <td>Bellevue, WA</td>\n",
       "      <td>30</td>\n",
       "    </tr>\n",
       "    <tr>\n",
       "      <th>36</th>\n",
       "      <td>Redmond, WA</td>\n",
       "      <td>29</td>\n",
       "    </tr>\n",
       "    <tr>\n",
       "      <th>38</th>\n",
       "      <td>Redmond, Washington</td>\n",
       "      <td>20</td>\n",
       "    </tr>\n",
       "    <tr>\n",
       "      <th>40</th>\n",
       "      <td>Remote</td>\n",
       "      <td>15</td>\n",
       "    </tr>\n",
       "    <tr>\n",
       "      <th>50</th>\n",
       "      <td>Seattle, WA 98101 (Downtown area)</td>\n",
       "      <td>10</td>\n",
       "    </tr>\n",
       "    <tr>\n",
       "      <th>15</th>\n",
       "      <td>Bothell, WA</td>\n",
       "      <td>7</td>\n",
       "    </tr>\n",
       "    <tr>\n",
       "      <th>0</th>\n",
       "      <td>\\nSeattle, WA</td>\n",
       "      <td>7</td>\n",
       "    </tr>\n",
       "  </tbody>\n",
       "</table>\n",
       "</div>"
      ],
      "text/plain": [
       "                             Location  count\n",
       "48                         Seattle WC    193\n",
       "49                        Seattle, WA    162\n",
       "37  Redmond, WA 98052 (Overlake area)     40\n",
       "6                        Bellevue, WA     30\n",
       "36                        Redmond, WA     29\n",
       "38                Redmond, Washington     20\n",
       "40                             Remote     15\n",
       "50  Seattle, WA 98101 (Downtown area)     10\n",
       "15                        Bothell, WA      7\n",
       "0                       \\nSeattle, WA      7"
      ]
     },
     "execution_count": 132,
     "metadata": {},
     "output_type": "execute_result"
    }
   ],
   "source": [
    "df_location.sort_values('count', ascending=False).head(10)"
   ]
  },
  {
   "cell_type": "code",
   "execution_count": null,
   "id": "48e9dc2c",
   "metadata": {},
   "outputs": [],
   "source": []
  }
 ],
 "metadata": {
  "kernelspec": {
   "display_name": "Python 3",
   "language": "python",
   "name": "python3"
  },
  "language_info": {
   "codemirror_mode": {
    "name": "ipython",
    "version": 3
   },
   "file_extension": ".py",
   "mimetype": "text/x-python",
   "name": "python",
   "nbconvert_exporter": "python",
   "pygments_lexer": "ipython3",
   "version": "3.8.8"
  }
 },
 "nbformat": 4,
 "nbformat_minor": 5
}
